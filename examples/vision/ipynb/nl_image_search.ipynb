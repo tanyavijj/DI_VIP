{
  "cells": [
    {
      "cell_type": "markdown",
      "metadata": {
        "id": "qK8cH3L5rJbN"
      },
      "source": [
        "# Natural language image search with a Dual Encoder\n",
        "\n",
        "**Author:** [Khalid Salama](https://www.linkedin.com/in/khalid-salama-24403144/)<br>\n",
        "**Date created:** 2021/01/30<br>\n",
        "**Last modified:** 2021/01/30<br>\n",
        "**Description:** Implementation of a dual encoder model for retrieving images that match natural language queries."
      ]
    },
    {
      "cell_type": "markdown",
      "metadata": {
        "id": "6xu5oTV5rJbU"
      },
      "source": [
        "## Introduction\n",
        "\n",
        "The example demonstrates how to build a dual encoder (also known as two-tower) neural network\n",
        "model to search for images using natural language. The model is inspired by\n",
        "the [CLIP](https://openai.com/blog/clip/)\n",
        "approach, introduced by Alec Radford et al. The idea is to train a vision encoder and a text\n",
        "encoder jointly to project the representation of images and their captions into the same embedding\n",
        "space, such that the caption embeddings are located near the embeddings of the images they describe.\n",
        "\n",
        "This example requires TensorFlow 2.4 or higher.\n",
        "In addition, [TensorFlow Hub](https://www.tensorflow.org/hub)\n",
        "and [TensorFlow Text](https://www.tensorflow.org/tutorials/tensorflow_text/intro)\n",
        "are required for the BERT model, and [TensorFlow Addons](https://www.tensorflow.org/addons)\n",
        "is required for the AdamW optimizer. These libraries can be installed using the\n",
        "following command:\n",
        "\n",
        "```python\n",
        "pip install -q -U tensorflow-hub tensorflow-text tensorflow-addons\n",
        "```"
      ]
    },
    {
      "cell_type": "markdown",
      "source": [],
      "metadata": {
        "id": "uSKiqvFqG9PK"
      }
    },
    {
      "cell_type": "code",
      "source": [
        "!pip uninstall tensorflow tensorflow-addons keras tensorflow-hub tensorflow-text -y"
      ],
      "metadata": {
        "id": "dyBXuqvIrMEZ",
        "outputId": "a6e7aa59-2260-4a18-8c0d-7984a8322b54",
        "colab": {
          "base_uri": "https://localhost:8080/"
        }
      },
      "execution_count": 2,
      "outputs": [
        {
          "output_type": "stream",
          "name": "stdout",
          "text": [
            "Found existing installation: tensorflow 2.18.0\n",
            "Uninstalling tensorflow-2.18.0:\n",
            "  Successfully uninstalled tensorflow-2.18.0\n",
            "\u001b[33mWARNING: Skipping tensorflow-addons as it is not installed.\u001b[0m\u001b[33m\n",
            "\u001b[0mFound existing installation: keras 3.8.0\n",
            "Uninstalling keras-3.8.0:\n",
            "  Successfully uninstalled keras-3.8.0\n",
            "Found existing installation: tensorflow-hub 0.16.1\n",
            "Uninstalling tensorflow-hub-0.16.1:\n",
            "  Successfully uninstalled tensorflow-hub-0.16.1\n",
            "Found existing installation: tensorflow-text 2.18.1\n",
            "Uninstalling tensorflow-text-2.18.1:\n",
            "  Successfully uninstalled tensorflow-text-2.18.1\n"
          ]
        }
      ]
    },
    {
      "cell_type": "code",
      "source": [
        "!pip install tensorflow==2.14 keras==2.14 tensorflow-hub tensorflow-text tensorflow-addons==0.22.0"
      ],
      "metadata": {
        "id": "bVetReEFrNfh",
        "outputId": "030e0c3e-f353-4b68-f555-804a572b751f",
        "colab": {
          "base_uri": "https://localhost:8080/"
        }
      },
      "execution_count": 3,
      "outputs": [
        {
          "output_type": "stream",
          "name": "stdout",
          "text": [
            "Collecting tensorflow==2.14\n",
            "  Downloading tensorflow-2.14.0-cp311-cp311-manylinux_2_17_x86_64.manylinux2014_x86_64.whl.metadata (4.1 kB)\n",
            "Collecting keras==2.14\n",
            "  Downloading keras-2.14.0-py3-none-any.whl.metadata (2.4 kB)\n",
            "Collecting tensorflow-hub\n",
            "  Downloading tensorflow_hub-0.16.1-py2.py3-none-any.whl.metadata (1.3 kB)\n",
            "Collecting tensorflow-text\n",
            "  Downloading tensorflow_text-2.18.1-cp311-cp311-manylinux_2_17_x86_64.manylinux2014_x86_64.whl.metadata (1.8 kB)\n",
            "Collecting tensorflow-addons==0.22.0\n",
            "  Downloading tensorflow_addons-0.22.0-cp311-cp311-manylinux_2_17_x86_64.manylinux2014_x86_64.whl.metadata (1.8 kB)\n",
            "Requirement already satisfied: absl-py>=1.0.0 in /usr/local/lib/python3.11/dist-packages (from tensorflow==2.14) (1.4.0)\n",
            "Requirement already satisfied: astunparse>=1.6.0 in /usr/local/lib/python3.11/dist-packages (from tensorflow==2.14) (1.6.3)\n",
            "Requirement already satisfied: flatbuffers>=23.5.26 in /usr/local/lib/python3.11/dist-packages (from tensorflow==2.14) (25.2.10)\n",
            "Requirement already satisfied: gast!=0.5.0,!=0.5.1,!=0.5.2,>=0.2.1 in /usr/local/lib/python3.11/dist-packages (from tensorflow==2.14) (0.6.0)\n",
            "Requirement already satisfied: google-pasta>=0.1.1 in /usr/local/lib/python3.11/dist-packages (from tensorflow==2.14) (0.2.0)\n",
            "Requirement already satisfied: h5py>=2.9.0 in /usr/local/lib/python3.11/dist-packages (from tensorflow==2.14) (3.12.1)\n",
            "Requirement already satisfied: libclang>=13.0.0 in /usr/local/lib/python3.11/dist-packages (from tensorflow==2.14) (18.1.1)\n",
            "Collecting ml-dtypes==0.2.0 (from tensorflow==2.14)\n",
            "  Downloading ml_dtypes-0.2.0-cp311-cp311-manylinux_2_17_x86_64.manylinux2014_x86_64.whl.metadata (20 kB)\n",
            "Requirement already satisfied: numpy>=1.23.5 in /usr/local/lib/python3.11/dist-packages (from tensorflow==2.14) (1.26.4)\n",
            "Requirement already satisfied: opt-einsum>=2.3.2 in /usr/local/lib/python3.11/dist-packages (from tensorflow==2.14) (3.4.0)\n",
            "Requirement already satisfied: packaging in /usr/local/lib/python3.11/dist-packages (from tensorflow==2.14) (24.2)\n",
            "Requirement already satisfied: protobuf!=4.21.0,!=4.21.1,!=4.21.2,!=4.21.3,!=4.21.4,!=4.21.5,<5.0.0dev,>=3.20.3 in /usr/local/lib/python3.11/dist-packages (from tensorflow==2.14) (4.25.6)\n",
            "Requirement already satisfied: setuptools in /usr/local/lib/python3.11/dist-packages (from tensorflow==2.14) (75.1.0)\n",
            "Requirement already satisfied: six>=1.12.0 in /usr/local/lib/python3.11/dist-packages (from tensorflow==2.14) (1.17.0)\n",
            "Requirement already satisfied: termcolor>=1.1.0 in /usr/local/lib/python3.11/dist-packages (from tensorflow==2.14) (2.5.0)\n",
            "Requirement already satisfied: typing-extensions>=3.6.6 in /usr/local/lib/python3.11/dist-packages (from tensorflow==2.14) (4.12.2)\n",
            "Collecting wrapt<1.15,>=1.11.0 (from tensorflow==2.14)\n",
            "  Downloading wrapt-1.14.1-cp311-cp311-manylinux_2_5_x86_64.manylinux1_x86_64.manylinux_2_17_x86_64.manylinux2014_x86_64.whl.metadata (6.7 kB)\n",
            "Requirement already satisfied: tensorflow-io-gcs-filesystem>=0.23.1 in /usr/local/lib/python3.11/dist-packages (from tensorflow==2.14) (0.37.1)\n",
            "Requirement already satisfied: grpcio<2.0,>=1.24.3 in /usr/local/lib/python3.11/dist-packages (from tensorflow==2.14) (1.70.0)\n",
            "Collecting tensorboard<2.15,>=2.14 (from tensorflow==2.14)\n",
            "  Downloading tensorboard-2.14.1-py3-none-any.whl.metadata (1.7 kB)\n",
            "Collecting tensorflow-estimator<2.15,>=2.14.0 (from tensorflow==2.14)\n",
            "  Downloading tensorflow_estimator-2.14.0-py2.py3-none-any.whl.metadata (1.3 kB)\n",
            "Collecting typeguard<3.0.0,>=2.7 (from tensorflow-addons==0.22.0)\n",
            "  Downloading typeguard-2.13.3-py3-none-any.whl.metadata (3.6 kB)\n",
            "Requirement already satisfied: tf-keras>=2.14.1 in /usr/local/lib/python3.11/dist-packages (from tensorflow-hub) (2.18.0)\n",
            "INFO: pip is looking at multiple versions of tensorflow-text to determine which version is compatible with other requirements. This could take a while.\n",
            "Collecting tensorflow-text\n",
            "  Downloading tensorflow_text-2.18.0-cp311-cp311-manylinux_2_17_x86_64.manylinux2014_x86_64.whl.metadata (1.8 kB)\n",
            "  Downloading tensorflow_text-2.17.0-cp311-cp311-manylinux_2_17_x86_64.manylinux2014_x86_64.whl.metadata (1.8 kB)\n",
            "  Downloading tensorflow_text-2.16.1-cp311-cp311-manylinux_2_17_x86_64.manylinux2014_x86_64.whl.metadata (2.0 kB)\n",
            "  Downloading tensorflow_text-2.15.0-cp311-cp311-manylinux_2_17_x86_64.manylinux2014_x86_64.whl.metadata (1.9 kB)\n",
            "  Downloading tensorflow_text-2.14.0-cp311-cp311-manylinux_2_17_x86_64.manylinux2014_x86_64.whl.metadata (1.9 kB)\n",
            "Requirement already satisfied: wheel<1.0,>=0.23.0 in /usr/local/lib/python3.11/dist-packages (from astunparse>=1.6.0->tensorflow==2.14) (0.45.1)\n",
            "Requirement already satisfied: google-auth<3,>=1.6.3 in /usr/local/lib/python3.11/dist-packages (from tensorboard<2.15,>=2.14->tensorflow==2.14) (2.27.0)\n",
            "Collecting google-auth-oauthlib<1.1,>=0.5 (from tensorboard<2.15,>=2.14->tensorflow==2.14)\n",
            "  Downloading google_auth_oauthlib-1.0.0-py2.py3-none-any.whl.metadata (2.7 kB)\n",
            "Requirement already satisfied: markdown>=2.6.8 in /usr/local/lib/python3.11/dist-packages (from tensorboard<2.15,>=2.14->tensorflow==2.14) (3.7)\n",
            "Requirement already satisfied: requests<3,>=2.21.0 in /usr/local/lib/python3.11/dist-packages (from tensorboard<2.15,>=2.14->tensorflow==2.14) (2.32.3)\n",
            "Requirement already satisfied: tensorboard-data-server<0.8.0,>=0.7.0 in /usr/local/lib/python3.11/dist-packages (from tensorboard<2.15,>=2.14->tensorflow==2.14) (0.7.2)\n",
            "Requirement already satisfied: werkzeug>=1.0.1 in /usr/local/lib/python3.11/dist-packages (from tensorboard<2.15,>=2.14->tensorflow==2.14) (3.1.3)\n",
            "INFO: pip is looking at multiple versions of tf-keras to determine which version is compatible with other requirements. This could take a while.\n",
            "Collecting tf-keras>=2.14.1 (from tensorflow-hub)\n",
            "  Downloading tf_keras-2.17.0-py3-none-any.whl.metadata (1.6 kB)\n",
            "  Downloading tf_keras-2.16.0-py3-none-any.whl.metadata (1.6 kB)\n",
            "  Downloading tf_keras-2.15.1-py3-none-any.whl.metadata (1.7 kB)\n",
            "  Downloading tf_keras-2.15.0-py3-none-any.whl.metadata (1.6 kB)\n",
            "Requirement already satisfied: cachetools<6.0,>=2.0.0 in /usr/local/lib/python3.11/dist-packages (from google-auth<3,>=1.6.3->tensorboard<2.15,>=2.14->tensorflow==2.14) (5.5.1)\n",
            "Requirement already satisfied: pyasn1-modules>=0.2.1 in /usr/local/lib/python3.11/dist-packages (from google-auth<3,>=1.6.3->tensorboard<2.15,>=2.14->tensorflow==2.14) (0.4.1)\n",
            "Requirement already satisfied: rsa<5,>=3.1.4 in /usr/local/lib/python3.11/dist-packages (from google-auth<3,>=1.6.3->tensorboard<2.15,>=2.14->tensorflow==2.14) (4.9)\n",
            "Requirement already satisfied: requests-oauthlib>=0.7.0 in /usr/local/lib/python3.11/dist-packages (from google-auth-oauthlib<1.1,>=0.5->tensorboard<2.15,>=2.14->tensorflow==2.14) (2.0.0)\n",
            "Requirement already satisfied: charset-normalizer<4,>=2 in /usr/local/lib/python3.11/dist-packages (from requests<3,>=2.21.0->tensorboard<2.15,>=2.14->tensorflow==2.14) (3.4.1)\n",
            "Requirement already satisfied: idna<4,>=2.5 in /usr/local/lib/python3.11/dist-packages (from requests<3,>=2.21.0->tensorboard<2.15,>=2.14->tensorflow==2.14) (3.10)\n",
            "Requirement already satisfied: urllib3<3,>=1.21.1 in /usr/local/lib/python3.11/dist-packages (from requests<3,>=2.21.0->tensorboard<2.15,>=2.14->tensorflow==2.14) (2.3.0)\n",
            "Requirement already satisfied: certifi>=2017.4.17 in /usr/local/lib/python3.11/dist-packages (from requests<3,>=2.21.0->tensorboard<2.15,>=2.14->tensorflow==2.14) (2025.1.31)\n",
            "Requirement already satisfied: MarkupSafe>=2.1.1 in /usr/local/lib/python3.11/dist-packages (from werkzeug>=1.0.1->tensorboard<2.15,>=2.14->tensorflow==2.14) (3.0.2)\n",
            "Requirement already satisfied: pyasn1<0.7.0,>=0.4.6 in /usr/local/lib/python3.11/dist-packages (from pyasn1-modules>=0.2.1->google-auth<3,>=1.6.3->tensorboard<2.15,>=2.14->tensorflow==2.14) (0.6.1)\n",
            "Requirement already satisfied: oauthlib>=3.0.0 in /usr/local/lib/python3.11/dist-packages (from requests-oauthlib>=0.7.0->google-auth-oauthlib<1.1,>=0.5->tensorboard<2.15,>=2.14->tensorflow==2.14) (3.2.2)\n",
            "Downloading tensorflow-2.14.0-cp311-cp311-manylinux_2_17_x86_64.manylinux2014_x86_64.whl (489.9 MB)\n",
            "\u001b[2K   \u001b[90m━━━━━━━━━━━━━━━━━━━━━━━━━━━━━━━━━━━━━━━━\u001b[0m \u001b[32m489.9/489.9 MB\u001b[0m \u001b[31m3.5 MB/s\u001b[0m eta \u001b[36m0:00:00\u001b[0m\n",
            "\u001b[?25hDownloading keras-2.14.0-py3-none-any.whl (1.7 MB)\n",
            "\u001b[2K   \u001b[90m━━━━━━━━━━━━━━━━━━━━━━━━━━━━━━━━━━━━━━━━\u001b[0m \u001b[32m1.7/1.7 MB\u001b[0m \u001b[31m58.6 MB/s\u001b[0m eta \u001b[36m0:00:00\u001b[0m\n",
            "\u001b[?25hDownloading tensorflow_addons-0.22.0-cp311-cp311-manylinux_2_17_x86_64.manylinux2014_x86_64.whl (612 kB)\n",
            "\u001b[2K   \u001b[90m━━━━━━━━━━━━━━━━━━━━━━━━━━━━━━━━━━━━━━━━\u001b[0m \u001b[32m612.3/612.3 kB\u001b[0m \u001b[31m41.5 MB/s\u001b[0m eta \u001b[36m0:00:00\u001b[0m\n",
            "\u001b[?25hDownloading ml_dtypes-0.2.0-cp311-cp311-manylinux_2_17_x86_64.manylinux2014_x86_64.whl (1.0 MB)\n",
            "\u001b[2K   \u001b[90m━━━━━━━━━━━━━━━━━━━━━━━━━━━━━━━━━━━━━━━━\u001b[0m \u001b[32m1.0/1.0 MB\u001b[0m \u001b[31m52.6 MB/s\u001b[0m eta \u001b[36m0:00:00\u001b[0m\n",
            "\u001b[?25hDownloading tensorflow_hub-0.16.1-py2.py3-none-any.whl (30 kB)\n",
            "Downloading tensorflow_text-2.14.0-cp311-cp311-manylinux_2_17_x86_64.manylinux2014_x86_64.whl (6.5 MB)\n",
            "\u001b[2K   \u001b[90m━━━━━━━━━━━━━━━━━━━━━━━━━━━━━━━━━━━━━━━━\u001b[0m \u001b[32m6.5/6.5 MB\u001b[0m \u001b[31m90.4 MB/s\u001b[0m eta \u001b[36m0:00:00\u001b[0m\n",
            "\u001b[?25hDownloading tensorboard-2.14.1-py3-none-any.whl (5.5 MB)\n",
            "\u001b[2K   \u001b[90m━━━━━━━━━━━━━━━━━━━━━━━━━━━━━━━━━━━━━━━━\u001b[0m \u001b[32m5.5/5.5 MB\u001b[0m \u001b[31m91.2 MB/s\u001b[0m eta \u001b[36m0:00:00\u001b[0m\n",
            "\u001b[?25hDownloading tensorflow_estimator-2.14.0-py2.py3-none-any.whl (440 kB)\n",
            "\u001b[2K   \u001b[90m━━━━━━━━━━━━━━━━━━━━━━━━━━━━━━━━━━━━━━━━\u001b[0m \u001b[32m440.7/440.7 kB\u001b[0m \u001b[31m34.9 MB/s\u001b[0m eta \u001b[36m0:00:00\u001b[0m\n",
            "\u001b[?25hDownloading tf_keras-2.15.0-py3-none-any.whl (1.7 MB)\n",
            "\u001b[2K   \u001b[90m━━━━━━━━━━━━━━━━━━━━━━━━━━━━━━━━━━━━━━━━\u001b[0m \u001b[32m1.7/1.7 MB\u001b[0m \u001b[31m54.6 MB/s\u001b[0m eta \u001b[36m0:00:00\u001b[0m\n",
            "\u001b[?25hDownloading typeguard-2.13.3-py3-none-any.whl (17 kB)\n",
            "Downloading wrapt-1.14.1-cp311-cp311-manylinux_2_5_x86_64.manylinux1_x86_64.manylinux_2_17_x86_64.manylinux2014_x86_64.whl (78 kB)\n",
            "\u001b[2K   \u001b[90m━━━━━━━━━━━━━━━━━━━━━━━━━━━━━━━━━━━━━━━━\u001b[0m \u001b[32m78.4/78.4 kB\u001b[0m \u001b[31m8.5 MB/s\u001b[0m eta \u001b[36m0:00:00\u001b[0m\n",
            "\u001b[?25hDownloading google_auth_oauthlib-1.0.0-py2.py3-none-any.whl (18 kB)\n",
            "Installing collected packages: wrapt, typeguard, tf-keras, tensorflow-estimator, ml-dtypes, keras, tensorflow-hub, tensorflow-addons, google-auth-oauthlib, tensorboard, tensorflow, tensorflow-text\n",
            "  Attempting uninstall: wrapt\n",
            "    Found existing installation: wrapt 1.17.2\n",
            "    Uninstalling wrapt-1.17.2:\n",
            "      Successfully uninstalled wrapt-1.17.2\n",
            "  Attempting uninstall: typeguard\n",
            "    Found existing installation: typeguard 4.4.2\n",
            "    Uninstalling typeguard-4.4.2:\n",
            "      Successfully uninstalled typeguard-4.4.2\n",
            "  Attempting uninstall: tf-keras\n",
            "    Found existing installation: tf_keras 2.18.0\n",
            "    Uninstalling tf_keras-2.18.0:\n",
            "      Successfully uninstalled tf_keras-2.18.0\n",
            "  Attempting uninstall: ml-dtypes\n",
            "    Found existing installation: ml-dtypes 0.4.1\n",
            "    Uninstalling ml-dtypes-0.4.1:\n",
            "      Successfully uninstalled ml-dtypes-0.4.1\n",
            "  Attempting uninstall: google-auth-oauthlib\n",
            "    Found existing installation: google-auth-oauthlib 1.2.1\n",
            "    Uninstalling google-auth-oauthlib-1.2.1:\n",
            "      Successfully uninstalled google-auth-oauthlib-1.2.1\n",
            "  Attempting uninstall: tensorboard\n",
            "    Found existing installation: tensorboard 2.18.0\n",
            "    Uninstalling tensorboard-2.18.0:\n",
            "      Successfully uninstalled tensorboard-2.18.0\n",
            "\u001b[31mERROR: pip's dependency resolver does not currently take into account all the packages that are installed. This behaviour is the source of the following dependency conflicts.\n",
            "dopamine-rl 4.1.2 requires tf-keras>=2.18.0, but you have tf-keras 2.15.0 which is incompatible.\n",
            "tensorstore 0.1.71 requires ml_dtypes>=0.3.1, but you have ml-dtypes 0.2.0 which is incompatible.\n",
            "inflect 7.5.0 requires typeguard>=4.0.1, but you have typeguard 2.13.3 which is incompatible.\u001b[0m\u001b[31m\n",
            "\u001b[0mSuccessfully installed google-auth-oauthlib-1.0.0 keras-2.14.0 ml-dtypes-0.2.0 tensorboard-2.14.1 tensorflow-2.14.0 tensorflow-addons-0.22.0 tensorflow-estimator-2.14.0 tensorflow-hub-0.16.1 tensorflow-text-2.14.0 tf-keras-2.15.0 typeguard-2.13.3 wrapt-1.14.1\n"
          ]
        }
      ]
    },
    {
      "cell_type": "markdown",
      "metadata": {
        "id": "PjhjjqXfrJbV"
      },
      "source": [
        "## Setup"
      ]
    },
    {
      "cell_type": "code",
      "execution_count": 4,
      "metadata": {
        "id": "omZVXE8grJbX",
        "outputId": "7e7fc44b-2379-4bcc-b198-646a3b5b7241",
        "colab": {
          "base_uri": "https://localhost:8080/"
        }
      },
      "outputs": [
        {
          "output_type": "stream",
          "name": "stderr",
          "text": [
            "/usr/local/lib/python3.11/dist-packages/tensorflow_addons/utils/tfa_eol_msg.py:23: UserWarning: \n",
            "\n",
            "TensorFlow Addons (TFA) has ended development and introduction of new features.\n",
            "TFA has entered a minimal maintenance and release mode until a planned end of life in May 2024.\n",
            "Please modify downstream libraries to take dependencies from other repositories in our TensorFlow community (e.g. Keras, Keras-CV, and Keras-NLP). \n",
            "\n",
            "For more information see: https://github.com/tensorflow/addons/issues/2807 \n",
            "\n",
            "  warnings.warn(\n"
          ]
        }
      ],
      "source": [
        "import os\n",
        "import collections\n",
        "import json\n",
        "import numpy as np\n",
        "import tensorflow as tf\n",
        "from tensorflow import keras\n",
        "from tensorflow.keras import layers\n",
        "import tensorflow_hub as hub\n",
        "import tensorflow_text as text\n",
        "import tensorflow_addons as tfa\n",
        "import matplotlib.pyplot as plt\n",
        "import matplotlib.image as mpimg\n",
        "from tqdm import tqdm\n",
        "\n",
        "# Suppressing tf.hub warnings\n",
        "tf.get_logger().setLevel(\"ERROR\")"
      ]
    },
    {
      "cell_type": "markdown",
      "metadata": {
        "id": "X43xUu74rJba"
      },
      "source": [
        "## Prepare the data\n",
        "\n",
        "We will use the [MS-COCO](https://cocodataset.org/#home) dataset to train our\n",
        "dual encoder model. MS-COCO contains over 82,000 images, each of which has at least\n",
        "5 different caption annotations. The dataset is usually used for\n",
        "[image captioning](https://www.tensorflow.org/tutorials/text/image_captioning)\n",
        "tasks, but we can repurpose the image-caption pairs to train our dual encoder\n",
        "model for image search.\n",
        "\n",
        "###\n",
        "Download and extract the data\n",
        "\n",
        "First, let's download the dataset, which consists of two compressed folders:\n",
        "one with images, and the other—with associated image captions.\n",
        "Note that the compressed images folder is 13GB in size."
      ]
    },
    {
      "cell_type": "code",
      "execution_count": 5,
      "metadata": {
        "id": "YlQ-1UxbrJbb",
        "outputId": "3c9f71ae-265b-4954-cfc4-555afa4878c4",
        "colab": {
          "base_uri": "https://localhost:8080/"
        }
      },
      "outputs": [
        {
          "output_type": "stream",
          "name": "stdout",
          "text": [
            "Downloading data from http://images.cocodataset.org/annotations/annotations_trainval2014.zip\n",
            "252872794/252872794 [==============================] - 6s 0us/step\n",
            "Downloading data from http://images.cocodataset.org/zips/train2014.zip\n",
            "13510573713/13510573713 [==============================] - 253s 0us/step\n",
            "Dataset is downloaded and extracted successfully.\n",
            "Number of images: 82783\n"
          ]
        }
      ],
      "source": [
        "root_dir = \"datasets\"\n",
        "annotations_dir = os.path.join(root_dir, \"annotations\")\n",
        "images_dir = os.path.join(root_dir, \"train2014\")\n",
        "tfrecords_dir = os.path.join(root_dir, \"tfrecords\")\n",
        "annotation_file = os.path.join(annotations_dir, \"captions_train2014.json\")\n",
        "\n",
        "# Download caption annotation files\n",
        "if not os.path.exists(annotations_dir):\n",
        "    annotation_zip = tf.keras.utils.get_file(\n",
        "        \"captions.zip\",\n",
        "        cache_dir=os.path.abspath(\".\"),\n",
        "        origin=\"http://images.cocodataset.org/annotations/annotations_trainval2014.zip\",\n",
        "        extract=True,\n",
        "    )\n",
        "    os.remove(annotation_zip)\n",
        "\n",
        "# Download image files\n",
        "if not os.path.exists(images_dir):\n",
        "    image_zip = tf.keras.utils.get_file(\n",
        "        \"train2014.zip\",\n",
        "        cache_dir=os.path.abspath(\".\"),\n",
        "        origin=\"http://images.cocodataset.org/zips/train2014.zip\",\n",
        "        extract=True,\n",
        "    )\n",
        "    os.remove(image_zip)\n",
        "\n",
        "print(\"Dataset is downloaded and extracted successfully.\")\n",
        "\n",
        "with open(annotation_file, \"r\") as f:\n",
        "    annotations = json.load(f)[\"annotations\"]\n",
        "\n",
        "image_path_to_caption = collections.defaultdict(list)\n",
        "for element in annotations:\n",
        "    caption = f\"{element['caption'].lower().rstrip('.')}\"\n",
        "    image_path = images_dir + \"/COCO_train2014_\" + \"%012d.jpg\" % (element[\"image_id\"])\n",
        "    image_path_to_caption[image_path].append(caption)\n",
        "\n",
        "image_paths = list(image_path_to_caption.keys())\n",
        "print(f\"Number of images: {len(image_paths)}\")"
      ]
    },
    {
      "cell_type": "markdown",
      "metadata": {
        "id": "N7EJaJqMrJbc"
      },
      "source": [
        "### Process and save the data to TFRecord files\n",
        "\n",
        "You can change the `sample_size` parameter to control many image-caption pairs\n",
        "will be used for training the dual encoder model.\n",
        "In this example we set `train_size` to 30,000 images,\n",
        "which is about 35% of the dataset. We use 2 captions for each\n",
        "image, thus producing 60,000 image-caption pairs. The size of the training set\n",
        "affects the quality of the produced encoders, but more examples would lead to\n",
        "longer training time."
      ]
    },
    {
      "cell_type": "code",
      "execution_count": 6,
      "metadata": {
        "id": "pvQv-46PrJbd",
        "outputId": "1b4e3c37-8a2c-489e-9337-1db5ff4bbe51",
        "colab": {
          "base_uri": "https://localhost:8080/"
        }
      },
      "outputs": [
        {
          "output_type": "stream",
          "name": "stderr",
          "text": [
            "100%|██████████| 15/15 [02:23<00:00,  9.58s/it]\n"
          ]
        },
        {
          "output_type": "stream",
          "name": "stdout",
          "text": [
            "60000 training examples were written to tfrecord files.\n"
          ]
        },
        {
          "output_type": "stream",
          "name": "stderr",
          "text": [
            "100%|██████████| 3/3 [00:25<00:00,  8.51s/it]"
          ]
        },
        {
          "output_type": "stream",
          "name": "stdout",
          "text": [
            "10000 evaluation examples were written to tfrecord files.\n"
          ]
        },
        {
          "output_type": "stream",
          "name": "stderr",
          "text": [
            "\n"
          ]
        }
      ],
      "source": [
        "train_size = 30000\n",
        "valid_size = 5000\n",
        "captions_per_image = 2\n",
        "images_per_file = 2000\n",
        "\n",
        "train_image_paths = image_paths[:train_size]\n",
        "num_train_files = int(np.ceil(train_size / images_per_file))\n",
        "train_files_prefix = os.path.join(tfrecords_dir, \"train\")\n",
        "\n",
        "valid_image_paths = image_paths[-valid_size:]\n",
        "num_valid_files = int(np.ceil(valid_size / images_per_file))\n",
        "valid_files_prefix = os.path.join(tfrecords_dir, \"valid\")\n",
        "\n",
        "tf.io.gfile.makedirs(tfrecords_dir)\n",
        "\n",
        "\n",
        "def bytes_feature(value):\n",
        "    return tf.train.Feature(bytes_list=tf.train.BytesList(value=[value]))\n",
        "\n",
        "\n",
        "def create_example(image_path, caption):\n",
        "    feature = {\n",
        "        \"caption\": bytes_feature(caption.encode()),\n",
        "        \"raw_image\": bytes_feature(tf.io.read_file(image_path).numpy()),\n",
        "    }\n",
        "    return tf.train.Example(features=tf.train.Features(feature=feature))\n",
        "\n",
        "\n",
        "def write_tfrecords(file_name, image_paths):\n",
        "    caption_list = []\n",
        "    image_path_list = []\n",
        "    for image_path in image_paths:\n",
        "        captions = image_path_to_caption[image_path][:captions_per_image]\n",
        "        caption_list.extend(captions)\n",
        "        image_path_list.extend([image_path] * len(captions))\n",
        "\n",
        "    with tf.io.TFRecordWriter(file_name) as writer:\n",
        "        for example_idx in range(len(image_path_list)):\n",
        "            example = create_example(\n",
        "                image_path_list[example_idx], caption_list[example_idx]\n",
        "            )\n",
        "            writer.write(example.SerializeToString())\n",
        "    return example_idx + 1\n",
        "\n",
        "\n",
        "def write_data(image_paths, num_files, files_prefix):\n",
        "    example_counter = 0\n",
        "    for file_idx in tqdm(range(num_files)):\n",
        "        file_name = files_prefix + \"-%02d.tfrecord\" % (file_idx)\n",
        "        start_idx = images_per_file * file_idx\n",
        "        end_idx = start_idx + images_per_file\n",
        "        example_counter += write_tfrecords(file_name, image_paths[start_idx:end_idx])\n",
        "    return example_counter\n",
        "\n",
        "\n",
        "train_example_count = write_data(train_image_paths, num_train_files, train_files_prefix)\n",
        "print(f\"{train_example_count} training examples were written to tfrecord files.\")\n",
        "\n",
        "valid_example_count = write_data(valid_image_paths, num_valid_files, valid_files_prefix)\n",
        "print(f\"{valid_example_count} evaluation examples were written to tfrecord files.\")"
      ]
    },
    {
      "cell_type": "markdown",
      "metadata": {
        "id": "md-_7v-SrJbe"
      },
      "source": [
        "### Create `tf.data.Dataset` for training and evaluation"
      ]
    },
    {
      "cell_type": "code",
      "execution_count": 7,
      "metadata": {
        "id": "864gE2LhrJbg"
      },
      "outputs": [],
      "source": [
        "\n",
        "feature_description = {\n",
        "    \"caption\": tf.io.FixedLenFeature([], tf.string),\n",
        "    \"raw_image\": tf.io.FixedLenFeature([], tf.string),\n",
        "}\n",
        "\n",
        "\n",
        "def read_example(example):\n",
        "    features = tf.io.parse_single_example(example, feature_description)\n",
        "    raw_image = features.pop(\"raw_image\")\n",
        "    features[\"image\"] = tf.image.resize(\n",
        "        tf.image.decode_jpeg(raw_image, channels=3), size=(299, 299)\n",
        "    )\n",
        "    return features\n",
        "\n",
        "\n",
        "def get_dataset(file_pattern, batch_size):\n",
        "\n",
        "    return (\n",
        "        tf.data.TFRecordDataset(tf.data.Dataset.list_files(file_pattern))\n",
        "        .map(\n",
        "            read_example,\n",
        "            num_parallel_calls=tf.data.AUTOTUNE,\n",
        "            deterministic=False,\n",
        "        )\n",
        "        .shuffle(batch_size * 10)\n",
        "        .prefetch(buffer_size=tf.data.AUTOTUNE)\n",
        "        .batch(batch_size)\n",
        "    )\n"
      ]
    },
    {
      "cell_type": "markdown",
      "metadata": {
        "id": "vHcq76TGrJbg"
      },
      "source": [
        "## Implement the projection head\n",
        "\n",
        "The projection head is used to transform the image and the text embeddings to\n",
        "the same embedding space with the same dimensionality."
      ]
    },
    {
      "cell_type": "code",
      "execution_count": 8,
      "metadata": {
        "id": "nvvvIpDGrJbh"
      },
      "outputs": [],
      "source": [
        "\n",
        "def project_embeddings(\n",
        "    embeddings, num_projection_layers, projection_dims, dropout_rate\n",
        "):\n",
        "    projected_embeddings = layers.Dense(units=projection_dims)(embeddings)\n",
        "    for _ in range(num_projection_layers):\n",
        "        x = tf.nn.gelu(projected_embeddings)\n",
        "        x = layers.Dense(projection_dims)(x)\n",
        "        x = layers.Dropout(dropout_rate)(x)\n",
        "        x = layers.Add()([projected_embeddings, x])\n",
        "        projected_embeddings = layers.LayerNormalization()(x)\n",
        "    return projected_embeddings\n"
      ]
    },
    {
      "cell_type": "markdown",
      "metadata": {
        "id": "75gOF2KZrJbh"
      },
      "source": [
        "## Implement the vision encoder\n",
        "\n",
        "In this example, we use [Xception](https://keras.io/api/applications/xception/)\n",
        "from [Keras Applications](https://keras.io/api/applications/) as the base for the\n",
        "vision encoder."
      ]
    },
    {
      "cell_type": "code",
      "execution_count": 9,
      "metadata": {
        "id": "dcL7_uqDrJbi"
      },
      "outputs": [],
      "source": [
        "\n",
        "def create_vision_encoder(\n",
        "    num_projection_layers, projection_dims, dropout_rate, trainable=False\n",
        "):\n",
        "    # Load the pre-trained Xception model to be used as the base encoder.\n",
        "    xception = keras.applications.Xception(\n",
        "        include_top=False, weights=\"imagenet\", pooling=\"avg\"\n",
        "    )\n",
        "    # Set the trainability of the base encoder.\n",
        "    for layer in xception.layers:\n",
        "        layer.trainable = trainable\n",
        "    # Receive the images as inputs.\n",
        "    inputs = layers.Input(shape=(299, 299, 3), name=\"image_input\")\n",
        "    # Preprocess the input image.\n",
        "    xception_input = tf.keras.applications.xception.preprocess_input(inputs)\n",
        "    # Generate the embeddings for the images using the xception model.\n",
        "    embeddings = xception(xception_input)\n",
        "    # Project the embeddings produced by the model.\n",
        "    outputs = project_embeddings(\n",
        "        embeddings, num_projection_layers, projection_dims, dropout_rate\n",
        "    )\n",
        "    # Create the vision encoder model.\n",
        "    return keras.Model(inputs, outputs, name=\"vision_encoder\")\n"
      ]
    },
    {
      "cell_type": "markdown",
      "metadata": {
        "id": "euWL2dCHrJbi"
      },
      "source": [
        "## Implement the text encoder\n",
        "\n",
        "We use [BERT](https://tfhub.dev/tensorflow/small_bert/bert_en_uncased_L-12_H-256_A-4/1)\n",
        "from [TensorFlow Hub](https://tfhub.dev) as the text encoder"
      ]
    },
    {
      "cell_type": "code",
      "execution_count": 10,
      "metadata": {
        "id": "mBnJ3-0drJbi"
      },
      "outputs": [],
      "source": [
        "\n",
        "def create_text_encoder(\n",
        "    num_projection_layers, projection_dims, dropout_rate, trainable=False\n",
        "):\n",
        "    # Load the BERT preprocessing module.\n",
        "    preprocess = hub.KerasLayer(\n",
        "        \"https://tfhub.dev/tensorflow/bert_en_uncased_preprocess/2\",\n",
        "        name=\"text_preprocessing\",\n",
        "    )\n",
        "    # Load the pre-trained BERT model to be used as the base encoder.\n",
        "    bert = hub.KerasLayer(\n",
        "        \"https://tfhub.dev/tensorflow/small_bert/bert_en_uncased_L-4_H-512_A-8/1\",\n",
        "        trainable=trainable,\n",
        "    )\n",
        "    # Set the trainability of the base encoder.\n",
        "    bert.trainable = trainable\n",
        "    # Receive the text as inputs.\n",
        "    inputs = layers.Input(shape=(), dtype=tf.string, name=\"text_input\")\n",
        "    # Preprocess the text.\n",
        "    bert_inputs = preprocess(inputs)\n",
        "    # Generate embeddings for the preprocessed text using the BERT model.\n",
        "    embeddings = bert(bert_inputs)[\"pooled_output\"]\n",
        "    # Project the embeddings produced by the model.\n",
        "    outputs = project_embeddings(\n",
        "        embeddings, num_projection_layers, projection_dims, dropout_rate\n",
        "    )\n",
        "    # Create the text encoder model.\n",
        "    return keras.Model(inputs, outputs, name=\"text_encoder\")\n"
      ]
    },
    {
      "cell_type": "markdown",
      "metadata": {
        "id": "pAFitvAZrJbj"
      },
      "source": [
        "## Implement the dual encoder\n",
        "\n",
        "To calculate the loss, we compute the pairwise dot-product similarity between\n",
        "each `caption_i` and `images_j` in the batch as the predictions.\n",
        "The target similarity between `caption_i`  and `image_j` is computed as\n",
        "the average of the (dot-product similarity between `caption_i` and `caption_j`)\n",
        "and (the dot-product similarity between `image_i` and `image_j`).\n",
        "Then, we use crossentropy to compute the loss between the targets and the predictions."
      ]
    },
    {
      "cell_type": "code",
      "execution_count": 11,
      "metadata": {
        "id": "XB7Tk1IbrJbk"
      },
      "outputs": [],
      "source": [
        "\n",
        "class DualEncoder(keras.Model):\n",
        "    def __init__(self, text_encoder, image_encoder, temperature=1.0, **kwargs):\n",
        "        super().__init__(**kwargs)\n",
        "        self.text_encoder = text_encoder\n",
        "        self.image_encoder = image_encoder\n",
        "        self.temperature = temperature\n",
        "        self.loss_tracker = keras.metrics.Mean(name=\"loss\")\n",
        "\n",
        "    @property\n",
        "    def metrics(self):\n",
        "        return [self.loss_tracker]\n",
        "\n",
        "    def call(self, features, training=False):\n",
        "        # Place each encoder on a separate GPU (if available).\n",
        "        # TF will fallback on available devices if there are fewer than 2 GPUs.\n",
        "        with tf.device(\"/gpu:0\"):\n",
        "            # Get the embeddings for the captions.\n",
        "            caption_embeddings = text_encoder(features[\"caption\"], training=training)\n",
        "        with tf.device(\"/gpu:1\"):\n",
        "            # Get the embeddings for the images.\n",
        "            image_embeddings = vision_encoder(features[\"image\"], training=training)\n",
        "        return caption_embeddings, image_embeddings\n",
        "\n",
        "    def compute_loss(self, caption_embeddings, image_embeddings):\n",
        "        # logits[i][j] is the dot_similarity(caption_i, image_j).\n",
        "        logits = (\n",
        "            tf.matmul(caption_embeddings, image_embeddings, transpose_b=True)\n",
        "            / self.temperature\n",
        "        )\n",
        "        # images_similarity[i][j] is the dot_similarity(image_i, image_j).\n",
        "        images_similarity = tf.matmul(\n",
        "            image_embeddings, image_embeddings, transpose_b=True\n",
        "        )\n",
        "        # captions_similarity[i][j] is the dot_similarity(caption_i, caption_j).\n",
        "        captions_similarity = tf.matmul(\n",
        "            caption_embeddings, caption_embeddings, transpose_b=True\n",
        "        )\n",
        "        # targets[i][j] = avarage dot_similarity(caption_i, caption_j) and dot_similarity(image_i, image_j).\n",
        "        targets = keras.activations.softmax(\n",
        "            (captions_similarity + images_similarity) / (2 * self.temperature)\n",
        "        )\n",
        "        # Compute the loss for the captions using crossentropy\n",
        "        captions_loss = keras.losses.categorical_crossentropy(\n",
        "            y_true=targets, y_pred=logits, from_logits=True\n",
        "        )\n",
        "        # Compute the loss for the images using crossentropy\n",
        "        images_loss = keras.losses.categorical_crossentropy(\n",
        "            y_true=tf.transpose(targets), y_pred=tf.transpose(logits), from_logits=True\n",
        "        )\n",
        "        # Return the mean of the loss over the batch.\n",
        "        return (captions_loss + images_loss) / 2\n",
        "\n",
        "    def train_step(self, features):\n",
        "        with tf.GradientTape() as tape:\n",
        "            # Forward pass\n",
        "            caption_embeddings, image_embeddings = self(features, training=True)\n",
        "            loss = self.compute_loss(caption_embeddings, image_embeddings)\n",
        "        # Backward pass\n",
        "        gradients = tape.gradient(loss, self.trainable_variables)\n",
        "        self.optimizer.apply_gradients(zip(gradients, self.trainable_variables))\n",
        "        # Monitor loss\n",
        "        self.loss_tracker.update_state(loss)\n",
        "        return {\"loss\": self.loss_tracker.result()}\n",
        "\n",
        "    def test_step(self, features):\n",
        "        caption_embeddings, image_embeddings = self(features, training=False)\n",
        "        loss = self.compute_loss(caption_embeddings, image_embeddings)\n",
        "        self.loss_tracker.update_state(loss)\n",
        "        return {\"loss\": self.loss_tracker.result()}\n"
      ]
    },
    {
      "cell_type": "markdown",
      "metadata": {
        "id": "H_S6MR9crJbl"
      },
      "source": [
        "## Train the dual encoder model\n",
        "\n",
        "In this experiment, we freeze the base encoders for text and images, and make only\n",
        "the projection head trainable."
      ]
    },
    {
      "cell_type": "code",
      "execution_count": 12,
      "metadata": {
        "id": "6Pn9xVhsrJbl",
        "outputId": "1f5e9a68-7d70-488d-d091-5d9913d04c26",
        "colab": {
          "base_uri": "https://localhost:8080/"
        }
      },
      "outputs": [
        {
          "output_type": "stream",
          "name": "stdout",
          "text": [
            "Downloading data from https://storage.googleapis.com/tensorflow/keras-applications/xception/xception_weights_tf_dim_ordering_tf_kernels_notop.h5\n",
            "83683744/83683744 [==============================] - 0s 0us/step\n"
          ]
        }
      ],
      "source": [
        "num_epochs = 3  # In practice, train for at least 30 epochs\n",
        "batch_size = 8\n",
        "\n",
        "vision_encoder = create_vision_encoder(\n",
        "    num_projection_layers=1, projection_dims=128, dropout_rate=0.1\n",
        ")\n",
        "text_encoder = create_text_encoder(\n",
        "    num_projection_layers=1, projection_dims=128, dropout_rate=0.1\n",
        ")\n",
        "dual_encoder = DualEncoder(text_encoder, vision_encoder, temperature=0.05)\n",
        "dual_encoder.compile(\n",
        "    optimizer=tfa.optimizers.AdamW(learning_rate=0.001, weight_decay=0.001)\n",
        ")"
      ]
    },
    {
      "cell_type": "markdown",
      "metadata": {
        "id": "vl15poClrJbl"
      },
      "source": [
        "Note that training the model with 60,000 image-caption pairs, with a batch size of 256,\n",
        "takes around 12 minutes per epoch using a V100 GPU accelerator. If 2 GPUs are available,\n",
        "the epoch takes around 8 minutes."
      ]
    },
    {
      "cell_type": "code",
      "execution_count": null,
      "metadata": {
        "id": "ZXm2t9WlrJbm",
        "outputId": "1476f392-0605-42a8-8b1c-6a8d3f60c98b",
        "colab": {
          "base_uri": "https://localhost:8080/"
        }
      },
      "outputs": [
        {
          "output_type": "stream",
          "name": "stdout",
          "text": [
            "Number of GPUs: 0\n",
            "Number of examples (caption-image pairs): 60000\n",
            "Batch size: 8\n",
            "Steps per epoch: 7500\n",
            "Epoch 1/3\n",
            "    920/Unknown - 2034s 2s/step - loss: 12.0169"
          ]
        }
      ],
      "source": [
        "print(f\"Number of GPUs: {len(tf.config.list_physical_devices('GPU'))}\")\n",
        "print(f\"Number of examples (caption-image pairs): {train_example_count}\")\n",
        "print(f\"Batch size: {batch_size}\")\n",
        "print(f\"Steps per epoch: {int(np.ceil(train_example_count / batch_size))}\")\n",
        "train_dataset = get_dataset(os.path.join(tfrecords_dir, \"train-*.tfrecord\"), batch_size)\n",
        "valid_dataset = get_dataset(os.path.join(tfrecords_dir, \"valid-*.tfrecord\"), batch_size)\n",
        "# Create a learning rate scheduler callback.\n",
        "reduce_lr = keras.callbacks.ReduceLROnPlateau(\n",
        "    monitor=\"val_loss\", factor=0.2, patience=3\n",
        ")\n",
        "# Create an early stopping callback.\n",
        "early_stopping = tf.keras.callbacks.EarlyStopping(\n",
        "    monitor=\"val_loss\", patience=5, restore_best_weights=True\n",
        ")\n",
        "history = dual_encoder.fit(\n",
        "    train_dataset,\n",
        "    epochs=num_epochs,\n",
        "    validation_data=valid_dataset,\n",
        "    callbacks=[reduce_lr, early_stopping],\n",
        ")\n",
        "print(\"Training completed. Saving vision and text encoders...\")\n",
        "vision_encoder.save(\"vision_encoder\")\n",
        "text_encoder.save(\"text_encoder\")\n",
        "print(\"Models are saved.\")"
      ]
    },
    {
      "cell_type": "markdown",
      "metadata": {
        "id": "TAcVJ98UrJbm"
      },
      "source": [
        "Plotting the training loss:"
      ]
    },
    {
      "cell_type": "code",
      "execution_count": null,
      "metadata": {
        "id": "ljXok8-OrJbn"
      },
      "outputs": [],
      "source": [
        "plt.plot(history.history[\"loss\"])\n",
        "plt.plot(history.history[\"val_loss\"])\n",
        "plt.ylabel(\"Loss\")\n",
        "plt.xlabel(\"Epoch\")\n",
        "plt.legend([\"train\", \"valid\"], loc=\"upper right\")\n",
        "plt.show()"
      ]
    },
    {
      "cell_type": "markdown",
      "metadata": {
        "id": "ykYQklQzrJbn"
      },
      "source": [
        "## Search for images using natural language queries\n",
        "\n",
        "We can then retrieve images corresponding to natural language queries via\n",
        "the following steps:\n",
        "\n",
        "1. Generate embeddings for the images by feeding them into the `vision_encoder`.\n",
        "2. Feed the natural language query to the `text_encoder` to generate a query embedding.\n",
        "3. Compute the similarity between the query embedding and the image embeddings\n",
        "in the index to retrieve the indices of the top matches.\n",
        "4. Look up the paths of the top matching images to display them.\n",
        "\n",
        "Note that, after training the `dual encoder`, only the fine-tuned `vision_encoder`\n",
        "and `text_encoder` models will be used, while the `dual_encoder` model will be discarded."
      ]
    },
    {
      "cell_type": "markdown",
      "metadata": {
        "id": "6Rk_T5ZirJbn"
      },
      "source": [
        "### Generate embeddings for the images\n",
        "\n",
        "We load the images and feed them into the `vision_encoder` to generate their embeddings.\n",
        "In large scale systems, this step is performed using a parallel data processing framework,\n",
        "such as [Apache Spark](https://spark.apache.org) or [Apache Beam](https://beam.apache.org).\n",
        "Generating the image embeddings may take several minutes."
      ]
    },
    {
      "cell_type": "code",
      "execution_count": null,
      "metadata": {
        "id": "PxG49fQjrJbn"
      },
      "outputs": [],
      "source": [
        "print(\"Loading vision and text encoders...\")\n",
        "vision_encoder = keras.models.load_model(\"vision_encoder\")\n",
        "text_encoder = keras.models.load_model(\"text_encoder\")\n",
        "print(\"Models are loaded.\")\n",
        "\n",
        "\n",
        "def read_image(image_path):\n",
        "    image_array = tf.image.decode_jpeg(tf.io.read_file(image_path), channels=3)\n",
        "    return tf.image.resize(image_array, (299, 299))\n",
        "\n",
        "\n",
        "print(f\"Generating embeddings for {len(image_paths)} images...\")\n",
        "image_embeddings = vision_encoder.predict(\n",
        "    tf.data.Dataset.from_tensor_slices(image_paths).map(read_image).batch(batch_size),\n",
        "    verbose=1,\n",
        ")\n",
        "print(f\"Image embeddings shape: {image_embeddings.shape}.\")"
      ]
    },
    {
      "cell_type": "markdown",
      "metadata": {
        "id": "mt6uZ1dHrJbo"
      },
      "source": [
        "### Retrieve relevant images\n",
        "\n",
        "In this example, we use exact matching by computing the dot product similarity\n",
        "between the input query embedding and the image embeddings, and retrieve the top k\n",
        "matches. However, *approximate* similarity matching, using frameworks like\n",
        "[ScaNN](https://github.com/google-research/google-research/tree/master/scann),\n",
        "[Annoy](https://github.com/spotify/annoy), or [Faiss](https://github.com/facebookresearch/faiss)\n",
        "is preferred in real-time use cases to scale with a large number of images."
      ]
    },
    {
      "cell_type": "code",
      "execution_count": null,
      "metadata": {
        "id": "rZwwJberrJbo"
      },
      "outputs": [],
      "source": [
        "\n",
        "def find_matches(image_embeddings, queries, k=9, normalize=True):\n",
        "    # Get the embedding for the query.\n",
        "    query_embedding = text_encoder(tf.convert_to_tensor(queries))\n",
        "    # Normalize the query and the image embeddings.\n",
        "    if normalize:\n",
        "        image_embeddings = tf.math.l2_normalize(image_embeddings, axis=1)\n",
        "        query_embedding = tf.math.l2_normalize(query_embedding, axis=1)\n",
        "    # Compute the dot product between the query and the image embeddings.\n",
        "    dot_similarity = tf.matmul(query_embedding, image_embeddings, transpose_b=True)\n",
        "    # Retrieve top k indices.\n",
        "    results = tf.math.top_k(dot_similarity, k).indices.numpy()\n",
        "    # Return matching image paths.\n",
        "    return [[image_paths[idx] for idx in indices] for indices in results]\n"
      ]
    },
    {
      "cell_type": "markdown",
      "metadata": {
        "id": "Kp6vA7WDrJbp"
      },
      "source": [
        "Set the `query` variable to the type of images you want to search for.\n",
        "Try things like: 'a plate of healthy food',\n",
        "'a woman wearing a hat is walking down a sidewalk',\n",
        "'a bird sits near to the water', or 'wild animals are standing in a field'."
      ]
    },
    {
      "cell_type": "code",
      "execution_count": null,
      "metadata": {
        "id": "nHrwEBMorJbp"
      },
      "outputs": [],
      "source": [
        "query = \"a family standing next to the ocean on a sandy beach with a surf board\"\n",
        "matches = find_matches(image_embeddings, [query], normalize=True)[0]\n",
        "\n",
        "plt.figure(figsize=(20, 20))\n",
        "for i in range(9):\n",
        "    ax = plt.subplot(3, 3, i + 1)\n",
        "    plt.imshow(mpimg.imread(matches[i]))\n",
        "    plt.axis(\"off\")\n"
      ]
    },
    {
      "cell_type": "markdown",
      "metadata": {
        "id": "BNaTlH6XrJbp"
      },
      "source": [
        "## Evaluate the retrieval quality\n",
        "\n",
        "To evaluate the dual encoder model, we use the captions as queries.\n",
        "We use the out-of-training-sample images and captions to evaluate the retrieval quality,\n",
        "using top k accuracy. A true prediction is counted if, for a given caption, its associated image\n",
        "is retrieved within the top k matches."
      ]
    },
    {
      "cell_type": "code",
      "execution_count": null,
      "metadata": {
        "id": "5K2RoA1RrJbp"
      },
      "outputs": [],
      "source": [
        "\n",
        "def compute_top_k_accuracy(image_paths, k=100):\n",
        "    hits = 0\n",
        "    num_batches = int(np.ceil(len(image_paths) / batch_size))\n",
        "    for idx in tqdm(range(num_batches)):\n",
        "        start_idx = idx * batch_size\n",
        "        end_idx = start_idx + batch_size\n",
        "        current_image_paths = image_paths[start_idx:end_idx]\n",
        "        queries = [\n",
        "            image_path_to_caption[image_path][0] for image_path in current_image_paths\n",
        "        ]\n",
        "        result = find_matches(image_embeddings, queries, k)\n",
        "        hits += sum(\n",
        "            [\n",
        "                image_path in matches\n",
        "                for (image_path, matches) in list(zip(current_image_paths, result))\n",
        "            ]\n",
        "        )\n",
        "\n",
        "    return hits / len(image_paths)\n",
        "\n",
        "\n",
        "print(\"Scoring training data...\")\n",
        "train_accuracy = compute_top_k_accuracy(train_image_paths)\n",
        "print(f\"Train accuracy: {round(train_accuracy * 100, 3)}%\")\n",
        "\n",
        "print(\"Scoring evaluation data...\")\n",
        "eval_accuracy = compute_top_k_accuracy(image_paths[train_size:])\n",
        "print(f\"Eval accuracy: {round(eval_accuracy * 100, 3)}%\")\n"
      ]
    },
    {
      "cell_type": "markdown",
      "metadata": {
        "id": "ukh-JP86rJbq"
      },
      "source": [
        "## Final remarks\n",
        "\n",
        "You can obtain better results by increasing the size of the training sample,\n",
        "train for more  epochs, explore other base encoders for images and text,\n",
        "set the base encoders to be trainable, and tune the hyperparameters,\n",
        "especially the `temperature` for the softmax in the loss computation.\n",
        "\n",
        "Example available on HuggingFace\n",
        "\n",
        "| Trained Model | Demo |\n",
        "| :--: | :--: |\n",
        "| [![Generic badge](https://img.shields.io/badge/%F0%9F%A4%97%20Model-nl%20image%20search-black.svg)](https://huggingface.co/keras-io/dual-encoder-image-search) | [![Generic badge](https://img.shields.io/badge/%F0%9F%A4%97%20Spaces-nl%20image%20search-black.svg)](https://huggingface.co/spaces/keras-io/dual-encoder-image-search) |\n"
      ]
    }
  ],
  "metadata": {
    "accelerator": "GPU",
    "colab": {
      "name": "nl_image_search",
      "provenance": [],
      "toc_visible": true,
      "gpuType": "T4"
    },
    "kernelspec": {
      "display_name": "Python 3",
      "name": "python3"
    },
    "language_info": {
      "codemirror_mode": {
        "name": "ipython",
        "version": 3
      },
      "file_extension": ".py",
      "mimetype": "text/x-python",
      "name": "python",
      "nbconvert_exporter": "python",
      "pygments_lexer": "ipython3",
      "version": "3.7.0"
    }
  },
  "nbformat": 4,
  "nbformat_minor": 0
}